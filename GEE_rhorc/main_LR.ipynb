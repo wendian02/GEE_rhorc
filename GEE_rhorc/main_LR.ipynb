{
 "cells": [
  {
   "cell_type": "markdown",
   "metadata": {
    "id": "UsjgPFo29oWv"
   },
   "source": [
    "Environment configuration - Google cloud disk loading"
   ]
  },
  {
   "cell_type": "code",
   "metadata": {
    "colab": {
     "base_uri": "https://localhost:8080/"
    },
    "executionInfo": {
     "elapsed": 29090,
     "status": "ok",
     "timestamp": 1662264668159,
     "user": {
      "displayName": "weizhong zeng",
      "userId": "09124551717365469341"
     },
     "user_tz": -480
    },
    "id": "beVCrOqwLoAK",
    "outputId": "c5e793aa-c40a-4c9e-f7c1-5ad7a6457144",
    "ExecuteTime": {
     "end_time": "2024-08-20T07:58:08.397861Z",
     "start_time": "2024-08-20T07:58:08.317560Z"
    }
   },
   "source": [
    "import sys\n",
    "from google.colab import drive\n",
    "\n"
   ],
   "outputs": [
    {
     "ename": "ModuleNotFoundError",
     "evalue": "No module named 'google.colab'",
     "output_type": "error",
     "traceback": [
      "\u001B[0;31m---------------------------------------------------------------------------\u001B[0m",
      "\u001B[0;31mModuleNotFoundError\u001B[0m                       Traceback (most recent call last)",
      "Cell \u001B[0;32mIn[1], line 2\u001B[0m\n\u001B[1;32m      1\u001B[0m \u001B[38;5;28;01mimport\u001B[39;00m \u001B[38;5;21;01msys\u001B[39;00m\n\u001B[0;32m----> 2\u001B[0m \u001B[38;5;28;01mfrom\u001B[39;00m \u001B[38;5;21;01mgoogle\u001B[39;00m\u001B[38;5;21;01m.\u001B[39;00m\u001B[38;5;21;01mcolab\u001B[39;00m \u001B[38;5;28;01mimport\u001B[39;00m drive\n",
      "\u001B[0;31mModuleNotFoundError\u001B[0m: No module named 'google.colab'"
     ]
    }
   ],
   "execution_count": 1
  },
  {
   "cell_type": "code",
   "execution_count": null,
   "metadata": {},
   "outputs": [],
   "source": [
    "drive.mount('/content/drive')\n",
    "sys.path.append('/content/drive/My Drive/Graduationproject')"
   ]
  },
  {
   "cell_type": "markdown",
   "metadata": {
    "id": "GMdJflTW92Yg"
   },
   "source": [
    "Environment configuration - Gee"
   ]
  },
  {
   "cell_type": "code",
   "execution_count": null,
   "metadata": {
    "id": "Y3iyUT5a97b0"
   },
   "outputs": [],
   "source": [
    "!pip install earthengine-api\n",
    "!earthengine authenticate --quiet"
   ]
  },
  {
   "cell_type": "markdown",
   "metadata": {
    "id": "AbwOz8WA-G74"
   },
   "source": [
    "Environment configuration - other required libraries"
   ]
  },
  {
   "cell_type": "code",
   "execution_count": null,
   "metadata": {
    "id": "baaCXSHg-MS2"
   },
   "outputs": [],
   "source": [
    "!pip install pandas\n",
    "!pip install ipygee\n",
    "!pip install pyproj"
   ]
  },
  {
   "cell_type": "markdown",
   "metadata": {
    "id": "UHLyZP07Fj6g"
   },
   "source": [
    "Main program"
   ]
  },
  {
   "cell_type": "code",
   "execution_count": null,
   "metadata": {
    "id": "89hC6NlF_qcu"
   },
   "outputs": [],
   "source": [
    "import ee\n",
    "ee.Initialize()\n",
    "\n",
    "import os \n",
    "os.chdir(\"/content/drive/MyDrive/Graduationproject/acolite-main\")\n"
   ]
  },
  {
   "cell_type": "code",
   "execution_count": null,
   "metadata": {
    "id": "VX5sXL-j3SaA"
   },
   "outputs": [],
   "source": [
    "import acolite as ac"
   ]
  },
  {
   "cell_type": "code",
   "execution_count": null,
   "metadata": {
    "id": "ZSIFuNLmFz7r"
   },
   "outputs": [],
   "source": [
    "import pandas as pd\n",
    "import warnings\n",
    "warnings.filterwarnings('ignore')\n",
    "\n",
    "input = \"/content/drive/MyDrive/Graduationproject/input_nc\"\n",
    "output_nc = \"/content/drive/MyDrive/Graduationproject/output_acolite\"\n",
    "output_csv = \"/content/drive/MyDrive/Graduationproject/output_csv\"\n",
    "sources = ['Landsat 8']\n",
    "point_list_dir = \"/content/drive/MyDrive/Graduationproject/coordinates_Fourlakes_test.csv\"\n",
    "sdate = \"2013-01\"\n",
    "edate = \"2022-08\"\n",
    "\n",
    "ac.acolite_gee_run.acolite_gee_run(input, output_nc, output_csv, sources, point_list_dir, sdate, edate)"
   ]
  },
  {
   "cell_type": "markdown",
   "metadata": {
    "id": "XEP9uHnsGI1q"
   },
   "source": [
    "**L5 波段**\n",
    "\n",
    "B1\t30米\t0.45 - 0.52 微米\t蓝色的\n",
    "\n",
    "B2\t30米\t0.52 - 0.60 微米\t绿色的\n",
    "\n",
    "B3\t30米\t0.63 - 0.69 微米\t红色的\n",
    "\n",
    "B4\t30米\t0.76 - 0.90 微米\t近红外\n",
    "\n",
    "B5\t30米\t1.55 - 1.75 微米\t短波红外线 1\n",
    "\n",
    "B6\t30米\t10.40 - 12.50 微米\t热红外 1. 从 60m 到 30m 重新采样。\n",
    "\n",
    "B7\t30米\t2.08 - 2.35 微米\t短波红外线 2\n",
    "\n",
    "**L8 波段**\n",
    "\n",
    "B1\t30米\t0.43 - 0.45 微米\t沿海气溶胶\n",
    "\n",
    "B2\t30米\t0.45 - 0.51 微米\t蓝色的\n",
    "\n",
    "B3\t30米\t0.53 - 0.59 微米\t绿色的\n",
    "\n",
    "B4\t30米\t0.64 - 0.67 微米\t红色的\n",
    "\n",
    "B5\t30米\t0.85 - 0.88 微米\t近红外\n",
    "\n",
    "B6\t30米\t1.57 - 1.65 微米\t短波红外线 1\n",
    "\n",
    "B7\t30米\t2.11 - 2.29 微米\t短波红外线 2\n",
    "\n",
    "B8\t15米\t0.52 - 0.90 微米\t带 8 全色\n",
    "\n",
    "B9\t15米\t1.36 - 1.38 微米\t卷云\n",
    "\n",
    "B10\t30米\t10.60 - 11.19 微米\t热红外 1，从 100m 到 30m 重新采样\n",
    "\n",
    "B11\t30米\t11.50 - 12.51 微米\t热红外 2，从 100m 重新采样到 30m"
   ]
  }
 ],
 "metadata": {
  "colab": {
   "authorship_tag": "ABX9TyPofhFG/qD7xssHkrfU79rR",
   "collapsed_sections": [],
   "mount_file_id": "1TaBpQEENSHJYCIvrPLuvkrRhquUHYVNC",
   "provenance": []
  },
  "kernelspec": {
   "display_name": "Python 3 (ipykernel)",
   "language": "python",
   "name": "python3"
  },
  "language_info": {
   "codemirror_mode": {
    "name": "ipython",
    "version": 3
   },
   "file_extension": ".py",
   "mimetype": "text/x-python",
   "name": "python",
   "nbconvert_exporter": "python",
   "pygments_lexer": "ipython3",
   "version": "3.11.3"
  }
 },
 "nbformat": 4,
 "nbformat_minor": 4
}
